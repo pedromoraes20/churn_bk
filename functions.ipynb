{
 "cells": [
  {
   "cell_type": "markdown",
   "id": "b65e0b63",
   "metadata": {},
   "source": [
    "# Funções"
   ]
  },
  {
   "cell_type": "markdown",
   "id": "f810139e",
   "metadata": {},
   "source": [
    "## Import libraries"
   ]
  },
  {
   "cell_type": "code",
   "execution_count": 1,
   "id": "cc1d3820-1036-4f7f-9406-8a0a5a9bb44f",
   "metadata": {},
   "outputs": [],
   "source": [
    "from sklearn import preprocessing\n",
    "#import cloudpickle as cp\n",
    "import matplotlib.pyplot as plt \n",
    "from sklearn.base import BaseEstimator, TransformerMixin\n",
    "plt.rc(\"font\", size=14)\n",
    "from sklearn.linear_model import LogisticRegression\n",
    "from sklearn.model_selection import train_test_split\n",
    "import seaborn as sns\n",
    "sns.set(style=\"white\")\n",
    "import joblib\n",
    "sns.set(style=\"whitegrid\", color_codes=True)\n",
    "import pandas as pd                                    # Manipulação de tabelas\n",
    "import numpy as np                                     # Operações matemáticas\n",
    "import warnings                                        # Remover warnings\n",
    "import gc                                              # Limpa memória do cache\n",
    "#from pandas_profiling import ProfileReport\n",
    "from sklearn.metrics import roc_auc_score\n",
    "from sklearn import datasets, linear_model\n",
    "from sklearn.model_selection import StratifiedKFold    # Cria KFold estratificado\n",
    "from sklearn.model_selection import RandomizedSearchCV # Busca Aleatória de Parâmetros\n",
    "import scipy.stats\n",
    "warnings.filterwarnings(\"ignore\")             # Ignora warnings\n",
    "pd.set_option('display.max_columns', None)    # Remove limitador de colunas quando mostra a tabela"
   ]
  },
  {
   "cell_type": "markdown",
   "id": "8f148ee8-e4c6-4ac6-ab49-82f0b24051f3",
   "metadata": {},
   "source": [
    "## Importação da Base de Dados"
   ]
  },
  {
   "cell_type": "code",
   "execution_count": 2,
   "id": "373d69b2-e915-4a1f-a26f-29905b1c73e6",
   "metadata": {},
   "outputs": [],
   "source": [
    "base_raw = pd.read_csv('Abandono_clientes.csv')"
   ]
  },
  {
   "cell_type": "code",
   "execution_count": 3,
   "id": "2af8b7cb-db08-479d-8ad1-2233d59bf327",
   "metadata": {},
   "outputs": [],
   "source": [
    "class TrataOutlier(BaseEstimator, TransformerMixin):\n",
    "    \n",
    "    def __init__(self):\n",
    "        self.li = {}\n",
    "        self.ls = {}\n",
    "        self.num_cols = None\n",
    "    \n",
    "    def fit(self, X, y=None):\n",
    "        self.num_cols = X.select_dtypes('number').columns.tolist()\n",
    "        for col in self.num_cols:\n",
    "            q1, q3 = X[col].quantile(q=[.25, .75])\n",
    "            iqr = q3 - q1\n",
    "            li = q1 - 1.5 * iqr\n",
    "            ls = q3 + 1.5 * iqr\n",
    "            \n",
    "            self.li[col] = li\n",
    "            self.ls[col] = ls\n",
    "        return self\n",
    "    \n",
    "    def transform(self, X):\n",
    "        for col in X.select_dtypes('number').columns:\n",
    "            if col not in self.num_cols:\n",
    "                print(f'Coluna {col} não existe na tabela')\n",
    "                pass\n",
    "            else:\n",
    "                X.loc[X[col] < self.li[col], col] = self.li[col]\n",
    "                X.loc[X[col] > self.ls[col], col] = self.ls[col]\n",
    "        \n",
    "        return X"
   ]
  },
  {
   "cell_type": "code",
   "execution_count": null,
   "id": "c3e4e49f",
   "metadata": {},
   "outputs": [],
   "source": []
  }
 ],
 "metadata": {
  "kernelspec": {
   "display_name": "Python 3 (ipykernel)",
   "language": "python",
   "name": "python3"
  },
  "language_info": {
   "codemirror_mode": {
    "name": "ipython",
    "version": 3
   },
   "file_extension": ".py",
   "mimetype": "text/x-python",
   "name": "python",
   "nbconvert_exporter": "python",
   "pygments_lexer": "ipython3",
   "version": "3.9.7"
  }
 },
 "nbformat": 4,
 "nbformat_minor": 5
}

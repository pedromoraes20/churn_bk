{
 "cells": [
  {
   "cell_type": "markdown",
   "id": "afd53aa6",
   "metadata": {},
   "source": [
    "# Predições"
   ]
  },
  {
   "cell_type": "markdown",
   "id": "55d0ede9",
   "metadata": {},
   "source": [
    "## 1 Carga de libraries"
   ]
  },
  {
   "cell_type": "code",
   "execution_count": 2,
   "id": "d8cc0107",
   "metadata": {},
   "outputs": [],
   "source": [
    "from sklearn import preprocessing\n",
    "#import cloudpickle as cp\n",
    "import matplotlib.pyplot as plt \n",
    "from sklearn.base import BaseEstimator, TransformerMixin\n",
    "plt.rc(\"font\", size=14)\n",
    "from sklearn.linear_model import LogisticRegression\n",
    "from sklearn.model_selection import train_test_split\n",
    "import seaborn as sns\n",
    "sns.set(style=\"white\")\n",
    "import joblib\n",
    "sns.set(style=\"whitegrid\", color_codes=True)\n",
    "import pandas as pd                                    # Manipulação de tabelas\n",
    "import numpy as np                                     # Operações matemáticas\n",
    "import warnings                                        # Remover warnings\n",
    "import gc                                              # Limpa memória do cache\n",
    "import pickle as pkl\n",
    "#from pandas_profiling import ProfileReport\n",
    "from sklearn.metrics import roc_auc_score\n",
    "from sklearn import datasets, linear_model\n",
    "from sklearn.model_selection import StratifiedKFold    # Cria KFold estratificado\n",
    "from sklearn.model_selection import RandomizedSearchCV # Busca Aleatória de Parâmetros\n",
    "import scipy.stats\n",
    "warnings.filterwarnings(\"ignore\")             # Ignora warnings\n",
    "pd.set_option('display.max_columns', None)    # Remove limitador de colunas quando mostra a tabela"
   ]
  },
  {
   "cell_type": "markdown",
   "id": "d3dc2255",
   "metadata": {},
   "source": [
    "## 2 Carga de features"
   ]
  },
  {
   "cell_type": "code",
   "execution_count": 13,
   "id": "f54803c1",
   "metadata": {},
   "outputs": [
    {
     "name": "stdout",
     "output_type": "stream",
     "text": [
      "A Base importada tem 1000 linhas e 14 colunas.\n"
     ]
    }
   ],
   "source": [
    "base_test = pd.read_csv('features.csv', sep=',', encoding='latin-1') # Rodando base Full"
   ]
  },
  {
   "cell_type": "code",
   "execution_count": 14,
   "id": "97d5eea5",
   "metadata": {},
   "outputs": [
    {
     "data": {
      "text/html": [
       "<div>\n",
       "<style scoped>\n",
       "    .dataframe tbody tr th:only-of-type {\n",
       "        vertical-align: middle;\n",
       "    }\n",
       "\n",
       "    .dataframe tbody tr th {\n",
       "        vertical-align: top;\n",
       "    }\n",
       "\n",
       "    .dataframe thead th {\n",
       "        text-align: right;\n",
       "    }\n",
       "</style>\n",
       "<table border=\"1\" class=\"dataframe\">\n",
       "  <thead>\n",
       "    <tr style=\"text-align: right;\">\n",
       "      <th></th>\n",
       "      <th>RowNumber</th>\n",
       "      <th>CustomerId</th>\n",
       "      <th>Surname</th>\n",
       "      <th>CreditScore</th>\n",
       "      <th>Age</th>\n",
       "      <th>Tenure</th>\n",
       "      <th>Balance</th>\n",
       "      <th>NumOfProducts</th>\n",
       "      <th>HasCrCard</th>\n",
       "      <th>IsActiveMember</th>\n",
       "      <th>EstimatedSalary</th>\n",
       "      <th>Gender_Male</th>\n",
       "      <th>Geography_Germany</th>\n",
       "      <th>Geography_Spain</th>\n",
       "    </tr>\n",
       "  </thead>\n",
       "  <tbody>\n",
       "    <tr>\n",
       "      <th>0</th>\n",
       "      <td>10001</td>\n",
       "      <td>15798485</td>\n",
       "      <td>Copley</td>\n",
       "      <td>565</td>\n",
       "      <td>31</td>\n",
       "      <td>1</td>\n",
       "      <td>0.00</td>\n",
       "      <td>1</td>\n",
       "      <td>0</td>\n",
       "      <td>1</td>\n",
       "      <td>20443.08</td>\n",
       "      <td>1</td>\n",
       "      <td>0</td>\n",
       "      <td>0</td>\n",
       "    </tr>\n",
       "    <tr>\n",
       "      <th>1</th>\n",
       "      <td>10002</td>\n",
       "      <td>15588959</td>\n",
       "      <td>T'ang</td>\n",
       "      <td>569</td>\n",
       "      <td>34</td>\n",
       "      <td>4</td>\n",
       "      <td>0.00</td>\n",
       "      <td>1</td>\n",
       "      <td>0</td>\n",
       "      <td>1</td>\n",
       "      <td>4045.90</td>\n",
       "      <td>1</td>\n",
       "      <td>0</td>\n",
       "      <td>0</td>\n",
       "    </tr>\n",
       "    <tr>\n",
       "      <th>2</th>\n",
       "      <td>10003</td>\n",
       "      <td>15624896</td>\n",
       "      <td>Ku</td>\n",
       "      <td>669</td>\n",
       "      <td>20</td>\n",
       "      <td>7</td>\n",
       "      <td>0.00</td>\n",
       "      <td>2</td>\n",
       "      <td>1</td>\n",
       "      <td>0</td>\n",
       "      <td>128838.67</td>\n",
       "      <td>0</td>\n",
       "      <td>0</td>\n",
       "      <td>0</td>\n",
       "    </tr>\n",
       "    <tr>\n",
       "      <th>3</th>\n",
       "      <td>10004</td>\n",
       "      <td>15639629</td>\n",
       "      <td>McConnan</td>\n",
       "      <td>694</td>\n",
       "      <td>39</td>\n",
       "      <td>4</td>\n",
       "      <td>173255.48</td>\n",
       "      <td>1</td>\n",
       "      <td>1</td>\n",
       "      <td>1</td>\n",
       "      <td>81293.10</td>\n",
       "      <td>1</td>\n",
       "      <td>0</td>\n",
       "      <td>0</td>\n",
       "    </tr>\n",
       "    <tr>\n",
       "      <th>4</th>\n",
       "      <td>10005</td>\n",
       "      <td>15638852</td>\n",
       "      <td>Ts'ui</td>\n",
       "      <td>504</td>\n",
       "      <td>28</td>\n",
       "      <td>10</td>\n",
       "      <td>109291.36</td>\n",
       "      <td>1</td>\n",
       "      <td>1</td>\n",
       "      <td>1</td>\n",
       "      <td>187593.15</td>\n",
       "      <td>1</td>\n",
       "      <td>0</td>\n",
       "      <td>1</td>\n",
       "    </tr>\n",
       "  </tbody>\n",
       "</table>\n",
       "</div>"
      ],
      "text/plain": [
       "   RowNumber  CustomerId   Surname  CreditScore  Age  Tenure    Balance  \\\n",
       "0      10001    15798485    Copley          565   31       1       0.00   \n",
       "1      10002    15588959     T'ang          569   34       4       0.00   \n",
       "2      10003    15624896        Ku          669   20       7       0.00   \n",
       "3      10004    15639629  McConnan          694   39       4  173255.48   \n",
       "4      10005    15638852     Ts'ui          504   28      10  109291.36   \n",
       "\n",
       "   NumOfProducts  HasCrCard  IsActiveMember  EstimatedSalary  Gender_Male  \\\n",
       "0              1          0               1         20443.08            1   \n",
       "1              1          0               1          4045.90            1   \n",
       "2              2          1               0        128838.67            0   \n",
       "3              1          1               1         81293.10            1   \n",
       "4              1          1               1        187593.15            1   \n",
       "\n",
       "   Geography_Germany  Geography_Spain  \n",
       "0                  0                0  \n",
       "1                  0                0  \n",
       "2                  0                0  \n",
       "3                  0                0  \n",
       "4                  0                1  "
      ]
     },
     "execution_count": 14,
     "metadata": {},
     "output_type": "execute_result"
    }
   ],
   "source": [
    "base_test.head()"
   ]
  },
  {
   "cell_type": "markdown",
   "id": "be7e5d86",
   "metadata": {},
   "source": [
    "## 3 Leitura do modelo"
   ]
  },
  {
   "cell_type": "code",
   "execution_count": 10,
   "id": "c8d1cdd1",
   "metadata": {},
   "outputs": [],
   "source": [
    "pickled_model = pkl.load(open('model.pkl', 'rb'))"
   ]
  },
  {
   "cell_type": "markdown",
   "id": "373ade14",
   "metadata": {},
   "source": [
    "## 3 Predições"
   ]
  },
  {
   "cell_type": "code",
   "execution_count": 15,
   "id": "36d1d785",
   "metadata": {},
   "outputs": [],
   "source": [
    "probabilidades_predicoes= pickled_model.predict_proba(base_test.drop(['RowNumber','CustomerId','Surname'],axis=1))\n",
    "churn_predicoes= pickled_model.predict(base_test.drop(['RowNumber','CustomerId','Surname'],axis=1)).astype('float32') \n",
    "base_test['score_churn']= (probabilidades_predicoes[:,1])\n",
    "base_test['churn']= churn_predicoes"
   ]
  },
  {
   "cell_type": "markdown",
   "id": "a72d2f5c-4e34-494e-800d-51b9c7317dd6",
   "metadata": {},
   "source": [
    "## 4. Exportação da Base de Teste com predições "
   ]
  },
  {
   "cell_type": "code",
   "execution_count": 21,
   "id": "760db404-6481-4343-8ade-39e7b8867c50",
   "metadata": {},
   "outputs": [
    {
     "name": "stdout",
     "output_type": "stream",
     "text": [
      "A Disposição da variável resposta na base de teste é:\n",
      "0.0    88.7\n",
      "1.0    11.3\n",
      "Name: churn, dtype: float64 em %\n"
     ]
    }
   ],
   "source": [
    "print('A Disposição do churn na base de teste é:'),\n",
    "print(round((base_test['churn'].value_counts()/base_test.shape[0])*100,2),'em %')\n",
    "base_test[['RowNumber','churn']].to_csv('predicoes_para_carga.csv',header=True,index=False)"
   ]
  },
  {
   "cell_type": "code",
   "execution_count": null,
   "id": "675155b2",
   "metadata": {},
   "outputs": [],
   "source": []
  },
  {
   "cell_type": "code",
   "execution_count": null,
   "id": "41581453",
   "metadata": {},
   "outputs": [],
   "source": []
  }
 ],
 "metadata": {
  "kernelspec": {
   "display_name": "Python 3 (ipykernel)",
   "language": "python",
   "name": "python3"
  },
  "language_info": {
   "codemirror_mode": {
    "name": "ipython",
    "version": 3
   },
   "file_extension": ".py",
   "mimetype": "text/x-python",
   "name": "python",
   "nbconvert_exporter": "python",
   "pygments_lexer": "ipython3",
   "version": "3.9.7"
  }
 },
 "nbformat": 4,
 "nbformat_minor": 5
}

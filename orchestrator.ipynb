{
 "cells": [
  {
   "cell_type": "markdown",
   "id": "5d7b269d",
   "metadata": {},
   "source": [
    "# Orquestrador"
   ]
  },
  {
   "cell_type": "code",
   "execution_count": 11,
   "id": "f9c5d8a6",
   "metadata": {},
   "outputs": [
    {
     "name": "stdout",
     "output_type": "stream",
     "text": [
      "A Base importada tem 1000 linhas e 13 colunas.\n",
      "A Disposição do churn na base de teste é:\n",
      "0.0    88.7\n",
      "1.0    11.3\n",
      "Name: churn, dtype: float64 em %\n"
     ]
    }
   ],
   "source": [
    "# Databricks notebook source\n",
    "%run ./feature_engineering.ipynb\n",
    "\n",
    "# COMMAND ----------\n",
    "\n",
    "%run ./predict_serving.ipynb"
   ]
  },
  {
   "cell_type": "code",
   "execution_count": null,
   "id": "0ebe5818",
   "metadata": {},
   "outputs": [],
   "source": []
  }
 ],
 "metadata": {
  "kernelspec": {
   "display_name": "Python 3 (ipykernel)",
   "language": "python",
   "name": "python3"
  },
  "language_info": {
   "codemirror_mode": {
    "name": "ipython",
    "version": 3
   },
   "file_extension": ".py",
   "mimetype": "text/x-python",
   "name": "python",
   "nbconvert_exporter": "python",
   "pygments_lexer": "ipython3",
   "version": "3.9.7"
  }
 },
 "nbformat": 4,
 "nbformat_minor": 5
}

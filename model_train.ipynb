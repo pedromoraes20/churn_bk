{
 "cells": [
  {
   "cell_type": "markdown",
   "metadata": {},
   "source": [
    "## Desenvolvimento do Case: Modelo preditivo de Churn"
   ]
  },
  {
   "cell_type": "markdown",
   "metadata": {},
   "source": [
    "## Importando Libs Necessárias"
   ]
  },
  {
   "cell_type": "code",
   "execution_count": 1,
   "metadata": {},
   "outputs": [],
   "source": [
    "from sklearn import preprocessing\n",
    "#import cloudpickle as cp\n",
    "import matplotlib.pyplot as plt \n",
    "from sklearn.base import BaseEstimator, TransformerMixin\n",
    "plt.rc(\"font\", size=14)\n",
    "from sklearn.linear_model import LogisticRegression\n",
    "from sklearn.model_selection import train_test_split\n",
    "import seaborn as sns\n",
    "sns.set(style=\"white\")\n",
    "import joblib\n",
    "sns.set(style=\"whitegrid\", color_codes=True)\n",
    "import pandas as pd                                    # Manipulação de tabelas\n",
    "import numpy as np                                     # Operações matemáticas\n",
    "import warnings                                        # Remover warnings\n",
    "import gc                                              # Limpa memória do cache\n",
    "#from pandas_profiling import ProfileReport\n",
    "from sklearn.metrics import roc_auc_score\n",
    "from sklearn import datasets, linear_model\n",
    "from sklearn.model_selection import StratifiedKFold    # Cria KFold estratificado\n",
    "from sklearn.model_selection import RandomizedSearchCV # Busca Aleatória de Parâmetros\n",
    "import scipy.stats\n",
    "warnings.filterwarnings(\"ignore\")             # Ignora warnings\n",
    "pd.set_option('display.max_columns', None)    # Remove limitador de colunas quando mostra a tabela"
   ]
  },
  {
   "cell_type": "markdown",
   "metadata": {},
   "source": [
    "## Importação da Base de Dados"
   ]
  },
  {
   "cell_type": "code",
   "execution_count": 2,
   "metadata": {},
   "outputs": [],
   "source": [
    "base_raw = pd.read_csv('Abandono_clientes.csv')"
   ]
  },
  {
   "cell_type": "code",
   "execution_count": 3,
   "metadata": {},
   "outputs": [],
   "source": [
    "base_raw_backup = base_raw.copy()"
   ]
  },
  {
   "cell_type": "code",
   "execution_count": 4,
   "metadata": {},
   "outputs": [
    {
     "data": {
      "text/html": [
       "<div>\n",
       "<style scoped>\n",
       "    .dataframe tbody tr th:only-of-type {\n",
       "        vertical-align: middle;\n",
       "    }\n",
       "\n",
       "    .dataframe tbody tr th {\n",
       "        vertical-align: top;\n",
       "    }\n",
       "\n",
       "    .dataframe thead th {\n",
       "        text-align: right;\n",
       "    }\n",
       "</style>\n",
       "<table border=\"1\" class=\"dataframe\">\n",
       "  <thead>\n",
       "    <tr style=\"text-align: right;\">\n",
       "      <th></th>\n",
       "      <th>RowNumber</th>\n",
       "      <th>CustomerId</th>\n",
       "      <th>Surname</th>\n",
       "      <th>CreditScore</th>\n",
       "      <th>Geography</th>\n",
       "      <th>Gender</th>\n",
       "      <th>Age</th>\n",
       "      <th>Tenure</th>\n",
       "      <th>Balance</th>\n",
       "      <th>NumOfProducts</th>\n",
       "      <th>HasCrCard</th>\n",
       "      <th>IsActiveMember</th>\n",
       "      <th>EstimatedSalary</th>\n",
       "      <th>Exited</th>\n",
       "    </tr>\n",
       "  </thead>\n",
       "  <tbody>\n",
       "    <tr>\n",
       "      <th>0</th>\n",
       "      <td>1</td>\n",
       "      <td>15634602</td>\n",
       "      <td>Hargrave</td>\n",
       "      <td>619</td>\n",
       "      <td>France</td>\n",
       "      <td>Female</td>\n",
       "      <td>42</td>\n",
       "      <td>2</td>\n",
       "      <td>0.00</td>\n",
       "      <td>1</td>\n",
       "      <td>1</td>\n",
       "      <td>1</td>\n",
       "      <td>101348.88</td>\n",
       "      <td>1</td>\n",
       "    </tr>\n",
       "    <tr>\n",
       "      <th>1</th>\n",
       "      <td>2</td>\n",
       "      <td>15647311</td>\n",
       "      <td>Hill</td>\n",
       "      <td>608</td>\n",
       "      <td>Spain</td>\n",
       "      <td>Female</td>\n",
       "      <td>41</td>\n",
       "      <td>1</td>\n",
       "      <td>83807.86</td>\n",
       "      <td>1</td>\n",
       "      <td>0</td>\n",
       "      <td>1</td>\n",
       "      <td>112542.58</td>\n",
       "      <td>0</td>\n",
       "    </tr>\n",
       "    <tr>\n",
       "      <th>2</th>\n",
       "      <td>3</td>\n",
       "      <td>15619304</td>\n",
       "      <td>Onio</td>\n",
       "      <td>502</td>\n",
       "      <td>France</td>\n",
       "      <td>Female</td>\n",
       "      <td>42</td>\n",
       "      <td>8</td>\n",
       "      <td>159660.80</td>\n",
       "      <td>3</td>\n",
       "      <td>1</td>\n",
       "      <td>0</td>\n",
       "      <td>113931.57</td>\n",
       "      <td>1</td>\n",
       "    </tr>\n",
       "    <tr>\n",
       "      <th>3</th>\n",
       "      <td>4</td>\n",
       "      <td>15701354</td>\n",
       "      <td>Boni</td>\n",
       "      <td>699</td>\n",
       "      <td>France</td>\n",
       "      <td>Female</td>\n",
       "      <td>39</td>\n",
       "      <td>1</td>\n",
       "      <td>0.00</td>\n",
       "      <td>2</td>\n",
       "      <td>0</td>\n",
       "      <td>0</td>\n",
       "      <td>93826.63</td>\n",
       "      <td>0</td>\n",
       "    </tr>\n",
       "    <tr>\n",
       "      <th>4</th>\n",
       "      <td>5</td>\n",
       "      <td>15737888</td>\n",
       "      <td>Mitchell</td>\n",
       "      <td>850</td>\n",
       "      <td>Spain</td>\n",
       "      <td>Female</td>\n",
       "      <td>43</td>\n",
       "      <td>2</td>\n",
       "      <td>125510.82</td>\n",
       "      <td>1</td>\n",
       "      <td>1</td>\n",
       "      <td>1</td>\n",
       "      <td>79084.10</td>\n",
       "      <td>0</td>\n",
       "    </tr>\n",
       "  </tbody>\n",
       "</table>\n",
       "</div>"
      ],
      "text/plain": [
       "   RowNumber  CustomerId   Surname  CreditScore Geography  Gender  Age  \\\n",
       "0          1    15634602  Hargrave          619    France  Female   42   \n",
       "1          2    15647311      Hill          608     Spain  Female   41   \n",
       "2          3    15619304      Onio          502    France  Female   42   \n",
       "3          4    15701354      Boni          699    France  Female   39   \n",
       "4          5    15737888  Mitchell          850     Spain  Female   43   \n",
       "\n",
       "   Tenure    Balance  NumOfProducts  HasCrCard  IsActiveMember  \\\n",
       "0       2       0.00              1          1               1   \n",
       "1       1   83807.86              1          0               1   \n",
       "2       8  159660.80              3          1               0   \n",
       "3       1       0.00              2          0               0   \n",
       "4       2  125510.82              1          1               1   \n",
       "\n",
       "   EstimatedSalary  Exited  \n",
       "0        101348.88       1  \n",
       "1        112542.58       0  \n",
       "2        113931.57       1  \n",
       "3         93826.63       0  \n",
       "4         79084.10       0  "
      ]
     },
     "execution_count": 4,
     "metadata": {},
     "output_type": "execute_result"
    }
   ],
   "source": [
    "base_raw.head()"
   ]
  },
  {
   "cell_type": "markdown",
   "metadata": {},
   "source": [
    "## 1. Breve Descritivo e Exploratório das Variáveis"
   ]
  },
  {
   "cell_type": "code",
   "execution_count": 5,
   "metadata": {},
   "outputs": [
    {
     "name": "stdout",
     "output_type": "stream",
     "text": [
      "As variáveis presentas na base de dados são: ['RowNumber' 'CustomerId' 'Surname' 'CreditScore' 'Geography' 'Gender'\n",
      " 'Age' 'Tenure' 'Balance' 'NumOfProducts' 'HasCrCard' 'IsActiveMember'\n",
      " 'EstimatedSalary' 'Exited']\n"
     ]
    }
   ],
   "source": [
    "print('As variáveis presentas na base de dados são:',base_raw.columns.values)"
   ]
  },
  {
   "cell_type": "markdown",
   "metadata": {},
   "source": [
    "### 1.1 Análise Gráfica e Tratamento de Outliers das Variáveis Preditoras do Churn"
   ]
  },
  {
   "cell_type": "code",
   "execution_count": 6,
   "metadata": {},
   "outputs": [
    {
     "data": {
      "image/png": "[encoded data removed]",
      "text/plain": [
       "<Figure size 1296x648 with 12 Axes>"
      ]
     },
     "metadata": {},
     "output_type": "display_data"
    }
   ],
   "source": [
    "fig, axs = plt.subplots(ncols=3, nrows=4, figsize=(18,9))\n",
    "\n",
    "sns.boxplot(base_raw['CreditScore'], ax=axs[0,0])\n",
    "sns.boxplot(base_raw['Age'], ax=axs[0,1])\n",
    "sns.boxplot(base_raw['Tenure'], ax=axs[0,2])\n",
    "sns.boxplot(base_raw['Balance'], ax=axs[2,0])\n",
    "sns.boxplot(base_raw['NumOfProducts'], ax=axs[2,1])\n",
    "sns.boxplot(base_raw['EstimatedSalary'], ax=axs[2,2])\n",
    "\n",
    "sns.distplot(base_raw['CreditScore'], ax=axs[1,0])\n",
    "sns.distplot(base_raw['Age'], ax=axs[1,1])\n",
    "sns.distplot(base_raw['Tenure'], ax=axs[1,2])\n",
    "sns.distplot(base_raw['Balance'], ax=axs[3,0])\n",
    "sns.distplot(base_raw['NumOfProducts'], ax=axs[3,1])\n",
    "sns.distplot(base_raw['EstimatedSalary'], ax=axs[3,2])\n",
    "\n",
    "fig.tight_layout()"
   ]
  },
  {
   "cell_type": "code",
   "execution_count": 7,
   "metadata": {},
   "outputs": [],
   "source": [
    "class TrataOutlier(BaseEstimator, TransformerMixin):\n",
    "    \n",
    "    def __init__(self):\n",
    "        self.li = {}\n",
    "        self.ls = {}\n",
    "        self.num_cols = None\n",
    "    \n",
    "    def fit(self, X, y=None):\n",
    "        self.num_cols = X.select_dtypes('number').columns.tolist()\n",
    "        for col in self.num_cols:\n",
    "            q1, q3 = X[col].quantile(q=[.25, .75])\n",
    "            iqr = q3 - q1\n",
    "            li = q1 - 1.5 * iqr\n",
    "            ls = q3 + 1.5 * iqr\n",
    "            \n",
    "            self.li[col] = li\n",
    "            self.ls[col] = ls\n",
    "        return self\n",
    "    \n",
    "    def transform(self, X):\n",
    "        for col in X.select_dtypes('number').columns:\n",
    "            if col not in self.num_cols:\n",
    "                print(f'Coluna {col} não existe na tabela')\n",
    "                pass\n",
    "            else:\n",
    "                X.loc[X[col] < self.li[col], col] = self.li[col]\n",
    "                X.loc[X[col] > self.ls[col], col] = self.ls[col]\n",
    "        \n",
    "        return X"
   ]
  },
  {
   "cell_type": "code",
   "execution_count": 8,
   "metadata": {},
   "outputs": [],
   "source": [
    "trata_outlier = TrataOutlier()\n",
    "cols_numericas = ['CreditScore','Age',\n",
    "                  'Tenure','Balance',\n",
    "                  'NumOfProducts','EstimatedSalary']\n",
    "base_raw.loc[:, cols_numericas] = trata_outlier.fit_transform(base_raw[cols_numericas])"
   ]
  },
  {
   "cell_type": "markdown",
   "metadata": {},
   "source": [
    "### 1.2 Análise Gráfica de Variáveis Categóricas"
   ]
  },
  {
   "cell_type": "code",
   "execution_count": 9,
   "metadata": {
    "scrolled": true
   },
   "outputs": [
    {
     "data": {
      "image/png": "[encoded data removed]",
      "text/plain": [
       "<Figure size 1152x432 with 4 Axes>"
      ]
     },
     "metadata": {},
     "output_type": "display_data"
    }
   ],
   "source": [
    "fig, axs = plt.subplots(ncols=4, nrows=1, figsize=(16,6))\n",
    "\n",
    "sns.countplot(base_raw['Gender'], ax=axs[0])\n",
    "sns.countplot(base_raw['Geography'], ax=axs[1])\n",
    "sns.countplot(base_raw['HasCrCard'], ax=axs[2])\n",
    "sns.countplot(base_raw['IsActiveMember'], ax=axs[3])\n",
    "\n",
    "fig.tight_layout()"
   ]
  },
  {
   "cell_type": "code",
   "execution_count": 10,
   "metadata": {},
   "outputs": [],
   "source": [
    " # COLLECT DUMMIES\n",
    "features_categoricas = ['Gender', 'Geography']\n",
    "base_raw = pd.get_dummies(base_raw, columns= features_categoricas, drop_first = True)"
   ]
  },
  {
   "cell_type": "code",
   "execution_count": 11,
   "metadata": {},
   "outputs": [
    {
     "data": {
      "text/html": [
       "<div>\n",
       "<style scoped>\n",
       "    .dataframe tbody tr th:only-of-type {\n",
       "        vertical-align: middle;\n",
       "    }\n",
       "\n",
       "    .dataframe tbody tr th {\n",
       "        vertical-align: top;\n",
       "    }\n",
       "\n",
       "    .dataframe thead th {\n",
       "        text-align: right;\n",
       "    }\n",
       "</style>\n",
       "<table border=\"1\" class=\"dataframe\">\n",
       "  <thead>\n",
       "    <tr style=\"text-align: right;\">\n",
       "      <th></th>\n",
       "      <th>RowNumber</th>\n",
       "      <th>CustomerId</th>\n",
       "      <th>Surname</th>\n",
       "      <th>CreditScore</th>\n",
       "      <th>Age</th>\n",
       "      <th>Tenure</th>\n",
       "      <th>Balance</th>\n",
       "      <th>NumOfProducts</th>\n",
       "      <th>HasCrCard</th>\n",
       "      <th>IsActiveMember</th>\n",
       "      <th>EstimatedSalary</th>\n",
       "      <th>Exited</th>\n",
       "      <th>Gender_Male</th>\n",
       "      <th>Geography_Germany</th>\n",
       "      <th>Geography_Spain</th>\n",
       "    </tr>\n",
       "  </thead>\n",
       "  <tbody>\n",
       "    <tr>\n",
       "      <th>0</th>\n",
       "      <td>1</td>\n",
       "      <td>15634602</td>\n",
       "      <td>Hargrave</td>\n",
       "      <td>619</td>\n",
       "      <td>42</td>\n",
       "      <td>2</td>\n",
       "      <td>0.00</td>\n",
       "      <td>1.0</td>\n",
       "      <td>1</td>\n",
       "      <td>1</td>\n",
       "      <td>101348.88</td>\n",
       "      <td>1</td>\n",
       "      <td>0</td>\n",
       "      <td>0</td>\n",
       "      <td>0</td>\n",
       "    </tr>\n",
       "    <tr>\n",
       "      <th>1</th>\n",
       "      <td>2</td>\n",
       "      <td>15647311</td>\n",
       "      <td>Hill</td>\n",
       "      <td>608</td>\n",
       "      <td>41</td>\n",
       "      <td>1</td>\n",
       "      <td>83807.86</td>\n",
       "      <td>1.0</td>\n",
       "      <td>0</td>\n",
       "      <td>1</td>\n",
       "      <td>112542.58</td>\n",
       "      <td>0</td>\n",
       "      <td>0</td>\n",
       "      <td>0</td>\n",
       "      <td>1</td>\n",
       "    </tr>\n",
       "    <tr>\n",
       "      <th>2</th>\n",
       "      <td>3</td>\n",
       "      <td>15619304</td>\n",
       "      <td>Onio</td>\n",
       "      <td>502</td>\n",
       "      <td>42</td>\n",
       "      <td>8</td>\n",
       "      <td>159660.80</td>\n",
       "      <td>3.0</td>\n",
       "      <td>1</td>\n",
       "      <td>0</td>\n",
       "      <td>113931.57</td>\n",
       "      <td>1</td>\n",
       "      <td>0</td>\n",
       "      <td>0</td>\n",
       "      <td>0</td>\n",
       "    </tr>\n",
       "    <tr>\n",
       "      <th>3</th>\n",
       "      <td>4</td>\n",
       "      <td>15701354</td>\n",
       "      <td>Boni</td>\n",
       "      <td>699</td>\n",
       "      <td>39</td>\n",
       "      <td>1</td>\n",
       "      <td>0.00</td>\n",
       "      <td>2.0</td>\n",
       "      <td>0</td>\n",
       "      <td>0</td>\n",
       "      <td>93826.63</td>\n",
       "      <td>0</td>\n",
       "      <td>0</td>\n",
       "      <td>0</td>\n",
       "      <td>0</td>\n",
       "    </tr>\n",
       "    <tr>\n",
       "      <th>4</th>\n",
       "      <td>5</td>\n",
       "      <td>15737888</td>\n",
       "      <td>Mitchell</td>\n",
       "      <td>850</td>\n",
       "      <td>43</td>\n",
       "      <td>2</td>\n",
       "      <td>125510.82</td>\n",
       "      <td>1.0</td>\n",
       "      <td>1</td>\n",
       "      <td>1</td>\n",
       "      <td>79084.10</td>\n",
       "      <td>0</td>\n",
       "      <td>0</td>\n",
       "      <td>0</td>\n",
       "      <td>1</td>\n",
       "    </tr>\n",
       "  </tbody>\n",
       "</table>\n",
       "</div>"
      ],
      "text/plain": [
       "   RowNumber  CustomerId   Surname  CreditScore  Age  Tenure    Balance  \\\n",
       "0          1    15634602  Hargrave          619   42       2       0.00   \n",
       "1          2    15647311      Hill          608   41       1   83807.86   \n",
       "2          3    15619304      Onio          502   42       8  159660.80   \n",
       "3          4    15701354      Boni          699   39       1       0.00   \n",
       "4          5    15737888  Mitchell          850   43       2  125510.82   \n",
       "\n",
       "   NumOfProducts  HasCrCard  IsActiveMember  EstimatedSalary  Exited  \\\n",
       "0            1.0          1               1        101348.88       1   \n",
       "1            1.0          0               1        112542.58       0   \n",
       "2            3.0          1               0        113931.57       1   \n",
       "3            2.0          0               0         93826.63       0   \n",
       "4            1.0          1               1         79084.10       0   \n",
       "\n",
       "   Gender_Male  Geography_Germany  Geography_Spain  \n",
       "0            0                  0                0  \n",
       "1            0                  0                1  \n",
       "2            0                  0                0  \n",
       "3            0                  0                0  \n",
       "4            0                  0                1  "
      ]
     },
     "execution_count": 11,
     "metadata": {},
     "output_type": "execute_result"
    }
   ],
   "source": [
    "base_raw.head()"
   ]
  },
  {
   "cell_type": "markdown",
   "metadata": {},
   "source": [
    "### 1.3 Análise do Balanceamento da Variável Resposta"
   ]
  },
  {
   "cell_type": "code",
   "execution_count": 12,
   "metadata": {},
   "outputs": [
    {
     "data": {
      "image/png": "[encoded data removed]",
      "text/plain": [
       "<Figure size 648x288 with 1 Axes>"
      ]
     },
     "metadata": {},
     "output_type": "display_data"
    }
   ],
   "source": [
    "fig, axs = plt.subplots(ncols=1, nrows=1, figsize=(9,4))\n",
    "sns.countplot(base_raw['Exited'].apply(str))\n",
    "fig.tight_layout()"
   ]
  },
  {
   "cell_type": "code",
   "execution_count": 13,
   "metadata": {},
   "outputs": [
    {
     "name": "stdout",
     "output_type": "stream",
     "text": [
      "A Disposição da variável resposta na base de dados é:\n",
      "0    79.63\n",
      "1    20.37\n",
      "Name: Exited, dtype: float64 em %\n"
     ]
    }
   ],
   "source": [
    "print('A Disposição da variável resposta na base de dados é:'),\n",
    "print(round((base_raw['Exited'].value_counts()/base_raw.shape[0])*100,2),'em %')"
   ]
  },
  {
   "cell_type": "markdown",
   "metadata": {},
   "source": [
    "## 2. Aplicação do Classificador XGBOOST para Modelagem do Churn"
   ]
  },
  {
   "cell_type": "markdown",
   "metadata": {},
   "source": [
    "### 2.1 Classe de Modelagem do XGBOOST (Obs: Performance Estimada a partir da métrica AUC)"
   ]
  },
  {
   "cell_type": "code",
   "execution_count": 14,
   "metadata": {},
   "outputs": [],
   "source": [
    "class Modelagem:\n",
    "    \n",
    "    def __init__(self):\n",
    "        \n",
    "        \"\"\"\n",
    "            Verifica se pacotes estão instalados. Se não estiver, sugere instalar.\n",
    "        \"\"\"\n",
    "        \n",
    "        # XGBoost\n",
    "        try:\n",
    "            import xgboost as xgb\n",
    "        except ImportError as e:\n",
    "            print('Instalar XGBoost. Execute o seguinte comando: !pip install \"xgboost==0.90\"')\n",
    "        \n",
    "        # Scikit-Learn\n",
    "        try:\n",
    "            import sklearn\n",
    "        except ImportError as e:\n",
    "            print('Instalar Scikit-Learn. Execute o seguinte comando: !pip install \"sklearn==0.20.2\"')\n",
    "            \n",
    "        # Otimização Bayesiana\n",
    "        try:\n",
    "            import optuna\n",
    "        except ImportError as e:\n",
    "            print('Instalar Optuna. Execute o seguinte comando: !pip install \"optuna==1.0.0\"')\n",
    "        \n",
    "        # Funções estatísticas\n",
    "        try:\n",
    "            import scipy.stats\n",
    "        except ImportError as e:\n",
    "            print('Instalar Scipy. Execute o seguinte comando: !pip install \"scipy==1.2.0\"')\n",
    "        \n",
    "        # Pickle -> serialização de modelos\n",
    "        try:\n",
    "            import pickle as pkl\n",
    "        except ImportError as e:\n",
    "            print('Instalar Pickle. Execute o seguinte comando: !pip install \"pickle==4.0\"')\n",
    "            \n",
    "        print('Conjunto de funções para construção de modelos de machine learning')\n",
    " \n",
    "  \n",
    "    def validacao_cruzada_xgb(self, X, y, n_splits=5, shuffle=True, n_jobs=2, n_iter=5, random_state=42):\n",
    "        \"\"\"\n",
    "            Treina o XGBoost a partir de uma Validação Cruzada Estratificada ( StratifiedKFold ) com RandomizedSearchCV\n",
    "\n",
    "            Parâmetros\n",
    "            ----------\n",
    "            X            : pandas dataframe. Base que irá treinar o modelo.\n",
    "            y            : array. Target do modelo.\n",
    "            n_splits     : inteiro. Número de folds para a validação cruzada.\n",
    "            shuffle      : booleano. Faz splits aleatórios com reposição.\n",
    "            n_jobs       : inteiro. Número cores que serão usados para processamento. -1 faz usar todos disponíveis.\n",
    "            n_iter       : inteiro. Número de vezes que a validação cruzada será executada.\n",
    "            random_state : inteiro. Semente de aleatoriedade.\n",
    "\n",
    "            Retorna\n",
    "            -------\n",
    "            rs_grid.best_estimator_ : Melhor classificador da validação.\n",
    "        \"\"\"\n",
    "        import xgboost as xgb\n",
    "        from sklearn.metrics import roc_auc_score              # Calcula ROC\n",
    "        from sklearn.model_selection import StratifiedKFold    # Cria KFold estratificado\n",
    "        from sklearn.model_selection import RandomizedSearchCV # Busca Aleatória de Parâmetros,\n",
    "            \n",
    "        # Cria amostras estratificadas\n",
    "        cv = StratifiedKFold(\n",
    "            n_splits     = n_splits,\n",
    "            shuffle      = shuffle,\n",
    "            random_state = random_state\n",
    "        )\n",
    "        \n",
    "        # Parâmetros padrão do modelo\n",
    "        params_fixed = {\n",
    "            'objective': 'binary:logistic',   # Objetivo do modelo\n",
    "            'silent'   : 1,                   # Atualiza status do modelo. 0 para não mostrar e 1 para mostrar (bom para debub)\n",
    "            'seed'     : random_state,        # Semente\n",
    "            'n_jobs'   : -1                   # Numero de cores do processador. -1 usa todos disponíveis\n",
    "        }\n",
    "        \n",
    "        params_dist_grid = {\n",
    "            \n",
    "            # Profundidade máxima da árvore. Valores muito altos podem overfittar.\n",
    "            'max_depth'        : [1, 2, 3, 4, 5, 6, 7],\n",
    "            \n",
    "            # Determina o mínimo de redução de perda necessário para criar um split. Deixa o algoritmo conservador.\n",
    "            'gamma'            : [0, 0.5, 1],\n",
    "            \n",
    "            # Número de estimadores para o modelo. Valores muito altos podem overfittar.\n",
    "            'n_estimators'     : scipy.stats.randint(1, 1001),\n",
    "            \n",
    "            # Taxa de aprendizado. Valores muito pequenos deixam o modelo mais lento para treinar.\n",
    "            'learning_rate'    : scipy.stats.uniform(),\n",
    "            \n",
    "            # Determina a fração de observações a serem consideradas quando constrói cada árvore.\n",
    "            # Tianqi Chen e Carlos Guestrin, no paper do XGBoost, recomendam o uso desse parâmetro.\n",
    "            'subsample'        : scipy.stats.uniform(),\n",
    "            \n",
    "            # Determina a fração de colunas a serem escolhidas, randomicamente, para cada árvore.\n",
    "            'colsample_bytree' : scipy.stats.uniform(),\n",
    "            \n",
    "            # Regularização L1. Incentiva a esparsidade -> fazer os pesos tenderem a 0.\n",
    "            # Pode ser útil quando o objetivo é \"objective: binary:logistic\" desde que eu precise de ajuda\n",
    "            # na seleção de variáveis.\n",
    "            'reg_alpha'        : scipy.stats.uniform(),\n",
    "            \n",
    "            # Regularização L2. Incentiva pesos pequenos\n",
    "            # Essa abordagem pode ser mais útil em métodos de árvore ao zerar as variáveis que não fazem sentido.\n",
    "            'reg_lambda'       : scipy.stats.uniform(),\n",
    "        }\n",
    "        \n",
    "        # Faz a validação cruzada com as amostras estratificadas\n",
    "        rs_grid = RandomizedSearchCV(\n",
    "            estimator=xgb.XGBClassifier(**params_fixed),   # Modelo a ser otimizado\n",
    "            n_jobs=n_jobs,\n",
    "            verbose=1,\n",
    "            param_distributions=params_dist_grid,          # Parâmetros a serem otimizados\n",
    "            n_iter=n_iter,\n",
    "            cv=cv,                                         # Objeto de validação cruzada\n",
    "            scoring='roc_auc',                             # Métrica\n",
    "            random_state=random_state,\n",
    "        )\n",
    "        \n",
    "        rs_grid.fit(X, y)                                   # Otimiza modelo\n",
    "        \n",
    "        print('=' * 80)\n",
    "        print('Melhores parâmetros:', rs_grid.best_params_)  # Printa os melhores parâmetros\n",
    "        print('Melhor ROC:', rs_grid.best_score_)            # Printa o melhor ROC\n",
    "\n",
    "        return rs_grid.best_estimator_                       # Retorna o melhor modelo      \n",
    "    \n",
    "    def calcula_ks(self, df, var_score, target, retorna_valor=False):\n",
    "        \"\"\"\n",
    "            Calcula o KS do Score\n",
    "\n",
    "            Parâmetros\n",
    "            ----------\n",
    "            df            : pandas dataframe. Dataframe da base escorada.\n",
    "            var_score     : string. Nome da variável de score.\n",
    "            target        : string. Nome da variável target.\n",
    "            retorna_valor : booleano. Define se retorna valor do KS.\n",
    "\n",
    "            Retorna\n",
    "            -------\n",
    "            rs_grid.best_estimator_ : Melhor classificador da validação.\n",
    "        \"\"\"\n",
    "        \n",
    "        df_ks, valor_ks = TuringEvaluateModels(df, var_score, target)\n",
    "        print('KS:', valor_ks)\n",
    "        if retorna_valor:\n",
    "            display(df_ks)\n",
    "            return valor_ks\n",
    "        else:\n",
    "            return df_ks\n",
    "    \n",
    "    def score_validacao_cruzada(self, estimador, X, y, cv=5, n_jobs=-1, scoring='roc_auc', retorna=False):\n",
    "        \"\"\"\n",
    "            Calcula o score na validação cruzada\n",
    "\n",
    "            Parâmetros\n",
    "            ----------\n",
    "            estimador  : modelo. Modelo que irá escorar a base\n",
    "            X          : pandas dataframe. Conjunto de treino do modelo\n",
    "            y          : array. Array com as targets para cada individuo\n",
    "            cv         : inteiro. Número de folds para validação. \n",
    "            n_jobs     : inteiro. Número de cores a serem usados para processamento. -1 faz usar todos disponíveis\n",
    "            scoring    : string. Métrica de desempenho.\n",
    "            retorna    : booleano. Define se retorna score.\n",
    "\n",
    "            Retorna\n",
    "            -------\n",
    "            rs_grid.best_estimator_ : Melhor classificador da validação.\n",
    "        \"\"\"\n",
    "        \n",
    "        inicio = time.time()\n",
    "        \n",
    "        # Calcula scores de validação cruzada\n",
    "        roc_scores = cross_val_score(\n",
    "            estimator = estimador, \n",
    "            X         = X, \n",
    "            y         = y, \n",
    "            cv        = cv, \n",
    "            n_jobs    = n_jobs, \n",
    "            scoring   = scoring\n",
    "        )\n",
    "\n",
    "        roc_mean = roc_scores.mean()\n",
    "        roc_std  = roc_scores.std()\n",
    "        fim      = time.time() - inicio\n",
    "        \n",
    "        print(\"Média da \" + scoring + \" na Validação Cruzada: \", round(roc_mean, 3))\n",
    "        print(\"Desvio Padrão da \" + scoring + \" na Validação Cruzada: \", round(roc_std, 3))\n",
    "        print(\"Tempo de processamento: \", round(fim, 3), 'segundos')\n",
    "        \n",
    "        if retorna:\n",
    "            return {'media': roc_mean, 'desvio': roc_std}"
   ]
  },
  {
   "cell_type": "markdown",
   "metadata": {},
   "source": [
    "### 2.2 Demais Funções Complementares"
   ]
  },
  {
   "cell_type": "code",
   "execution_count": 15,
   "metadata": {},
   "outputs": [],
   "source": [
    "### Função que mostra dataframe lado a lado\n",
    "from IPython.display import display_html\n",
    "def display_side_by_side(*args):\n",
    "    html_str=''\n",
    "    for df in args:\n",
    "        html_str+=df.to_html()\n",
    "    display_html(html_str.replace('table','table style=\"display:inline\"'),raw=True)\n",
    "def metricas(scores,target):\n",
    "    return pd.DataFrame({\n",
    "        'KS'   : [ks2(scores,target)],\n",
    "        'ROC'  : [roc_auc_score(y_score=scores,y_true=target)],\n",
    "        'GINI' : [2 * roc_auc_score(y_score=scores,y_true=target) - 1]\n",
    "    })\n",
    "def ks2(score, alvo):\n",
    "    b2 = pd.crosstab(score, alvo, rownames = ['score']).reset_index()\n",
    "    if len(np.unique(alvo)) > 1:\n",
    "        freq_bom = b2.iloc[:,1]/sum(b2.iloc[:,1])\n",
    "        freq_mau = b2.iloc[:,2]/sum(b2.iloc[:,2])\n",
    "        ac_bom = np.cumsum(freq_bom)\n",
    "        ac_mau = np.cumsum(freq_mau)\n",
    "        diff = np.abs(ac_bom - ac_mau).round(7)\n",
    "        ks = diff.max() * 100\n",
    "    else:\n",
    "        ks = 0\n",
    "    return ks"
   ]
  },
  {
   "cell_type": "code",
   "execution_count": 16,
   "metadata": {},
   "outputs": [
    {
     "data": {
      "text/html": [
       "<div>\n",
       "<style scoped>\n",
       "    .dataframe tbody tr th:only-of-type {\n",
       "        vertical-align: middle;\n",
       "    }\n",
       "\n",
       "    .dataframe tbody tr th {\n",
       "        vertical-align: top;\n",
       "    }\n",
       "\n",
       "    .dataframe thead th {\n",
       "        text-align: right;\n",
       "    }\n",
       "</style>\n",
       "<table border=\"1\" class=\"dataframe\">\n",
       "  <thead>\n",
       "    <tr style=\"text-align: right;\">\n",
       "      <th></th>\n",
       "      <th>RowNumber</th>\n",
       "      <th>CustomerId</th>\n",
       "      <th>Surname</th>\n",
       "      <th>CreditScore</th>\n",
       "      <th>Age</th>\n",
       "      <th>Tenure</th>\n",
       "      <th>Balance</th>\n",
       "      <th>NumOfProducts</th>\n",
       "      <th>HasCrCard</th>\n",
       "      <th>IsActiveMember</th>\n",
       "      <th>EstimatedSalary</th>\n",
       "      <th>Exited</th>\n",
       "      <th>Gender_Male</th>\n",
       "      <th>Geography_Germany</th>\n",
       "      <th>Geography_Spain</th>\n",
       "    </tr>\n",
       "  </thead>\n",
       "  <tbody>\n",
       "    <tr>\n",
       "      <th>0</th>\n",
       "      <td>1</td>\n",
       "      <td>15634602</td>\n",
       "      <td>Hargrave</td>\n",
       "      <td>619</td>\n",
       "      <td>42</td>\n",
       "      <td>2</td>\n",
       "      <td>0.00</td>\n",
       "      <td>1.0</td>\n",
       "      <td>1</td>\n",
       "      <td>1</td>\n",
       "      <td>101348.88</td>\n",
       "      <td>1</td>\n",
       "      <td>0</td>\n",
       "      <td>0</td>\n",
       "      <td>0</td>\n",
       "    </tr>\n",
       "    <tr>\n",
       "      <th>1</th>\n",
       "      <td>2</td>\n",
       "      <td>15647311</td>\n",
       "      <td>Hill</td>\n",
       "      <td>608</td>\n",
       "      <td>41</td>\n",
       "      <td>1</td>\n",
       "      <td>83807.86</td>\n",
       "      <td>1.0</td>\n",
       "      <td>0</td>\n",
       "      <td>1</td>\n",
       "      <td>112542.58</td>\n",
       "      <td>0</td>\n",
       "      <td>0</td>\n",
       "      <td>0</td>\n",
       "      <td>1</td>\n",
       "    </tr>\n",
       "    <tr>\n",
       "      <th>2</th>\n",
       "      <td>3</td>\n",
       "      <td>15619304</td>\n",
       "      <td>Onio</td>\n",
       "      <td>502</td>\n",
       "      <td>42</td>\n",
       "      <td>8</td>\n",
       "      <td>159660.80</td>\n",
       "      <td>3.0</td>\n",
       "      <td>1</td>\n",
       "      <td>0</td>\n",
       "      <td>113931.57</td>\n",
       "      <td>1</td>\n",
       "      <td>0</td>\n",
       "      <td>0</td>\n",
       "      <td>0</td>\n",
       "    </tr>\n",
       "    <tr>\n",
       "      <th>3</th>\n",
       "      <td>4</td>\n",
       "      <td>15701354</td>\n",
       "      <td>Boni</td>\n",
       "      <td>699</td>\n",
       "      <td>39</td>\n",
       "      <td>1</td>\n",
       "      <td>0.00</td>\n",
       "      <td>2.0</td>\n",
       "      <td>0</td>\n",
       "      <td>0</td>\n",
       "      <td>93826.63</td>\n",
       "      <td>0</td>\n",
       "      <td>0</td>\n",
       "      <td>0</td>\n",
       "      <td>0</td>\n",
       "    </tr>\n",
       "    <tr>\n",
       "      <th>4</th>\n",
       "      <td>5</td>\n",
       "      <td>15737888</td>\n",
       "      <td>Mitchell</td>\n",
       "      <td>850</td>\n",
       "      <td>43</td>\n",
       "      <td>2</td>\n",
       "      <td>125510.82</td>\n",
       "      <td>1.0</td>\n",
       "      <td>1</td>\n",
       "      <td>1</td>\n",
       "      <td>79084.10</td>\n",
       "      <td>0</td>\n",
       "      <td>0</td>\n",
       "      <td>0</td>\n",
       "      <td>1</td>\n",
       "    </tr>\n",
       "  </tbody>\n",
       "</table>\n",
       "</div>"
      ],
      "text/plain": [
       "   RowNumber  CustomerId   Surname  CreditScore  Age  Tenure    Balance  \\\n",
       "0          1    15634602  Hargrave          619   42       2       0.00   \n",
       "1          2    15647311      Hill          608   41       1   83807.86   \n",
       "2          3    15619304      Onio          502   42       8  159660.80   \n",
       "3          4    15701354      Boni          699   39       1       0.00   \n",
       "4          5    15737888  Mitchell          850   43       2  125510.82   \n",
       "\n",
       "   NumOfProducts  HasCrCard  IsActiveMember  EstimatedSalary  Exited  \\\n",
       "0            1.0          1               1        101348.88       1   \n",
       "1            1.0          0               1        112542.58       0   \n",
       "2            3.0          1               0        113931.57       1   \n",
       "3            2.0          0               0         93826.63       0   \n",
       "4            1.0          1               1         79084.10       0   \n",
       "\n",
       "   Gender_Male  Geography_Germany  Geography_Spain  \n",
       "0            0                  0                0  \n",
       "1            0                  0                1  \n",
       "2            0                  0                0  \n",
       "3            0                  0                0  \n",
       "4            0                  0                1  "
      ]
     },
     "execution_count": 16,
     "metadata": {},
     "output_type": "execute_result"
    }
   ],
   "source": [
    "base_raw.head()"
   ]
  },
  {
   "cell_type": "markdown",
   "metadata": {},
   "source": [
    "### 2.3 Aplicação o XGBOOST"
   ]
  },
  {
   "cell_type": "code",
   "execution_count": 17,
   "metadata": {},
   "outputs": [
    {
     "name": "stdout",
     "output_type": "stream",
     "text": [
      "Conjunto de funções para construção de modelos de machine learning\n",
      "Fitting 5 folds for each of 5 candidates, totalling 25 fits\n",
      "[15:57:47] WARNING: C:/Users/Administrator/workspace/xgboost-win64_release_1.5.1/src/learner.cc:576: \n",
      "Parameters: { \"silent\" } might not be used.\n",
      "\n",
      "  This could be a false alarm, with some parameters getting used by language bindings but\n",
      "  then being mistakenly passed down to XGBoost core, or some parameter actually being used\n",
      "  but getting flagged wrongly here. Please open an issue if you find any such cases.\n",
      "\n",
      "\n",
      "[15:57:47] WARNING: C:/Users/Administrator/workspace/xgboost-win64_release_1.5.1/src/learner.cc:1115: Starting in XGBoost 1.3.0, the default evaluation metric used with the objective 'binary:logistic' was changed from 'error' to 'logloss'. Explicitly set eval_metric if you'd like to restore the old behavior.\n",
      "================================================================================\n",
      "Melhores parâmetros: {'colsample_bytree': 0.8661761457749352, 'gamma': 1, 'learning_rate': 0.020584494295802447, 'max_depth': 2, 'n_estimators': 344, 'reg_alpha': 0.8324426408004217, 'reg_lambda': 0.21233911067827616, 'subsample': 0.18182496720710062}\n",
      "Melhor ROC: 0.8565853375951271\n"
     ]
    }
   ],
   "source": [
    "NOME_DA_TARGET = 'Exited'\n",
    "modelagem =  Modelagem() \n",
    "xgb_model = modelagem.validacao_cruzada_xgb(base_raw.drop(['RowNumber','CustomerId','Surname',NOME_DA_TARGET],axis=1), base_raw[NOME_DA_TARGET], n_jobs = -1,n_splits=5,n_iter=5)"
   ]
  },
  {
   "cell_type": "code",
   "execution_count": 18,
   "metadata": {},
   "outputs": [],
   "source": [
    "import pickle as pkl\n",
    "pkl.dump(xgb_model, open('model.pkl', 'wb'))"
   ]
  },
  {
   "cell_type": "markdown",
   "metadata": {},
   "source": [
    "### 2.4 Análise de Performance Global Esperada"
   ]
  },
  {
   "cell_type": "code",
   "execution_count": 19,
   "metadata": {},
   "outputs": [
    {
     "data": {
      "text/html": [
       "<table style=\"display:inline\" border=\"1\" class=\"dataframe\">\n",
       "  <thead>\n",
       "    <tr style=\"text-align: right;\">\n",
       "      <th></th>\n",
       "      <th>KS</th>\n",
       "      <th>ROC</th>\n",
       "      <th>GINI</th>\n",
       "    </tr>\n",
       "  </thead>\n",
       "  <tbody>\n",
       "    <tr>\n",
       "      <th>0</th>\n",
       "      <td>55.7139</td>\n",
       "      <td>0.861711</td>\n",
       "      <td>0.723422</td>\n",
       "    </tr>\n",
       "  </tbody>\n",
       "</table style=\"display:inline\">"
      ]
     },
     "metadata": {},
     "output_type": "display_data"
    }
   ],
   "source": [
    "probabilidades_predicoes= xgb_model.predict_proba(base_raw.drop(['RowNumber','CustomerId','Surname',NOME_DA_TARGET],axis=1)) \n",
    "base_raw['score_churn']= (probabilidades_predicoes[:,1])\n",
    "\n",
    "display_side_by_side(*[metricas(base_raw['score_churn'], base_raw[NOME_DA_TARGET])])"
   ]
  },
  {
   "cell_type": "markdown",
   "metadata": {},
   "source": [
    "## 3. Predição das Probabilidades na Base de Teste"
   ]
  },
  {
   "cell_type": "markdown",
   "metadata": {},
   "source": [
    "### 3.1 Importação da Base de Teste"
   ]
  },
  {
   "cell_type": "code",
   "execution_count": 21,
   "metadata": {},
   "outputs": [
    {
     "name": "stdout",
     "output_type": "stream",
     "text": [
      "A Base importada tem 1000 linhas e 13 colunas.\n"
     ]
    }
   ],
   "source": [
    "base_test = pd.read_csv('Abandono_teste.csv', sep=';', encoding='latin-1') # Rodando base Full\n",
    "print('A Base importada tem', base_test.shape[0], 'linhas e', base_test.shape[1], 'colunas.')\n",
    "base_test_backup = base_test.copy()"
   ]
  },
  {
   "cell_type": "markdown",
   "metadata": {},
   "source": [
    "### 3.2 Aplicação de Tratamento de Outliers (mediante medidas salvas da base de Treinamento)"
   ]
  },
  {
   "cell_type": "code",
   "execution_count": 22,
   "metadata": {},
   "outputs": [],
   "source": [
    "cols_numericas = ['CreditScore','Age',\n",
    "                  'Tenure','Balance',\n",
    "                  'NumOfProducts','EstimatedSalary']"
   ]
  },
  {
   "cell_type": "code",
   "execution_count": 23,
   "metadata": {},
   "outputs": [],
   "source": [
    "base_test.loc[:, cols_numericas] = trata_outlier.transform(base_test[cols_numericas])"
   ]
  },
  {
   "cell_type": "code",
   "execution_count": 24,
   "metadata": {},
   "outputs": [
    {
     "data": {
      "text/plain": [
       "array([[0.76443857, 0.23556143],\n",
       "       [0.82469106, 0.17530896],\n",
       "       [0.11946994, 0.88053006],\n",
       "       ...,\n",
       "       [0.8661573 , 0.13384268],\n",
       "       [0.8502436 , 0.14975636],\n",
       "       [0.87369645, 0.12630357]], dtype=float32)"
      ]
     },
     "execution_count": 24,
     "metadata": {},
     "output_type": "execute_result"
    }
   ],
   "source": [
    "probabilidades_predicoes"
   ]
  },
  {
   "cell_type": "markdown",
   "metadata": {},
   "source": [
    "### 3.3 Numeralizar variáveis categóricas (mediante dicionário criado na base de Treinamento)"
   ]
  },
  {
   "cell_type": "code",
   "execution_count": 25,
   "metadata": {},
   "outputs": [],
   "source": [
    "# COLLECT DUMMIES\n",
    "features_categoricas = ['Gender', 'Geography']\n",
    "base_test = pd.get_dummies(base_test, columns= features_categoricas, drop_first = True)"
   ]
  },
  {
   "cell_type": "markdown",
   "metadata": {},
   "source": [
    "### 3.4 Aplicação do XGBOOST para criação da predição"
   ]
  },
  {
   "cell_type": "code",
   "execution_count": 26,
   "metadata": {},
   "outputs": [],
   "source": [
    "probabilidades_predicoes= xgb_model.predict_proba(base_test.drop(['RowNumber','CustomerId','Surname'],axis=1))\n",
    "churn_predicoes= xgb_model.predict(base_test.drop(['RowNumber','CustomerId','Surname'],axis=1)).astype('float32') \n",
    "base_test['score_churn']= (probabilidades_predicoes[:,1])\n",
    "base_test['churn']= churn_predicoes"
   ]
  },
  {
   "cell_type": "markdown",
   "metadata": {},
   "source": [
    "### 3.5 Análise das Variáveis de Previsão"
   ]
  },
  {
   "cell_type": "code",
   "execution_count": 27,
   "metadata": {},
   "outputs": [
    {
     "data": {
      "image/png": "[encoded data removed]",
      "text/plain": [
       "<Figure size 648x288 with 2 Axes>"
      ]
     },
     "metadata": {},
     "output_type": "display_data"
    }
   ],
   "source": [
    "fig, axs = plt.subplots(ncols=2, nrows=1, figsize=(9,4))\n",
    "sns.countplot(base_test['churn'].apply(str), ax=axs[0])\n",
    "sns.distplot(base_test['score_churn'], ax=axs[1])\n",
    "fig.tight_layout()"
   ]
  },
  {
   "cell_type": "code",
   "execution_count": 28,
   "metadata": {},
   "outputs": [
    {
     "name": "stdout",
     "output_type": "stream",
     "text": [
      "A Disposição da variável resposta na base de dados é:\n",
      "0.0    88.7\n",
      "1.0    11.3\n",
      "Name: churn, dtype: float64 em %\n"
     ]
    }
   ],
   "source": [
    "print('A Disposição da variável resposta na base de dados é:'),\n",
    "print(round((base_test['churn'].value_counts()/base_test.shape[0])*100,2),'em %')"
   ]
  },
  {
   "cell_type": "code",
   "execution_count": 29,
   "metadata": {},
   "outputs": [
    {
     "data": {
      "text/html": [
       "<div>\n",
       "<style scoped>\n",
       "    .dataframe tbody tr th:only-of-type {\n",
       "        vertical-align: middle;\n",
       "    }\n",
       "\n",
       "    .dataframe tbody tr th {\n",
       "        vertical-align: top;\n",
       "    }\n",
       "\n",
       "    .dataframe thead th {\n",
       "        text-align: right;\n",
       "    }\n",
       "</style>\n",
       "<table border=\"1\" class=\"dataframe\">\n",
       "  <thead>\n",
       "    <tr style=\"text-align: right;\">\n",
       "      <th></th>\n",
       "      <th>RowNumber</th>\n",
       "      <th>CustomerId</th>\n",
       "      <th>Surname</th>\n",
       "      <th>CreditScore</th>\n",
       "      <th>Age</th>\n",
       "      <th>Tenure</th>\n",
       "      <th>Balance</th>\n",
       "      <th>NumOfProducts</th>\n",
       "      <th>HasCrCard</th>\n",
       "      <th>IsActiveMember</th>\n",
       "      <th>EstimatedSalary</th>\n",
       "      <th>Gender_Male</th>\n",
       "      <th>Geography_Germany</th>\n",
       "      <th>Geography_Spain</th>\n",
       "      <th>score_churn</th>\n",
       "      <th>churn</th>\n",
       "    </tr>\n",
       "  </thead>\n",
       "  <tbody>\n",
       "    <tr>\n",
       "      <th>0</th>\n",
       "      <td>10001</td>\n",
       "      <td>15798485</td>\n",
       "      <td>Copley</td>\n",
       "      <td>565</td>\n",
       "      <td>31</td>\n",
       "      <td>1</td>\n",
       "      <td>0.00</td>\n",
       "      <td>1.0</td>\n",
       "      <td>0</td>\n",
       "      <td>1</td>\n",
       "      <td>20443.08</td>\n",
       "      <td>1</td>\n",
       "      <td>0</td>\n",
       "      <td>0</td>\n",
       "      <td>0.079376</td>\n",
       "      <td>0.0</td>\n",
       "    </tr>\n",
       "    <tr>\n",
       "      <th>1</th>\n",
       "      <td>10002</td>\n",
       "      <td>15588959</td>\n",
       "      <td>T'ang</td>\n",
       "      <td>569</td>\n",
       "      <td>34</td>\n",
       "      <td>4</td>\n",
       "      <td>0.00</td>\n",
       "      <td>1.0</td>\n",
       "      <td>0</td>\n",
       "      <td>1</td>\n",
       "      <td>4045.90</td>\n",
       "      <td>1</td>\n",
       "      <td>0</td>\n",
       "      <td>0</td>\n",
       "      <td>0.083401</td>\n",
       "      <td>0.0</td>\n",
       "    </tr>\n",
       "    <tr>\n",
       "      <th>2</th>\n",
       "      <td>10003</td>\n",
       "      <td>15624896</td>\n",
       "      <td>Ku</td>\n",
       "      <td>669</td>\n",
       "      <td>20</td>\n",
       "      <td>7</td>\n",
       "      <td>0.00</td>\n",
       "      <td>2.0</td>\n",
       "      <td>1</td>\n",
       "      <td>0</td>\n",
       "      <td>128838.67</td>\n",
       "      <td>0</td>\n",
       "      <td>0</td>\n",
       "      <td>0</td>\n",
       "      <td>0.041323</td>\n",
       "      <td>0.0</td>\n",
       "    </tr>\n",
       "    <tr>\n",
       "      <th>3</th>\n",
       "      <td>10004</td>\n",
       "      <td>15639629</td>\n",
       "      <td>McConnan</td>\n",
       "      <td>694</td>\n",
       "      <td>39</td>\n",
       "      <td>4</td>\n",
       "      <td>173255.48</td>\n",
       "      <td>1.0</td>\n",
       "      <td>1</td>\n",
       "      <td>1</td>\n",
       "      <td>81293.10</td>\n",
       "      <td>1</td>\n",
       "      <td>0</td>\n",
       "      <td>0</td>\n",
       "      <td>0.119940</td>\n",
       "      <td>0.0</td>\n",
       "    </tr>\n",
       "    <tr>\n",
       "      <th>4</th>\n",
       "      <td>10005</td>\n",
       "      <td>15638852</td>\n",
       "      <td>Ts'ui</td>\n",
       "      <td>504</td>\n",
       "      <td>28</td>\n",
       "      <td>10</td>\n",
       "      <td>109291.36</td>\n",
       "      <td>1.0</td>\n",
       "      <td>1</td>\n",
       "      <td>1</td>\n",
       "      <td>187593.15</td>\n",
       "      <td>1</td>\n",
       "      <td>0</td>\n",
       "      <td>1</td>\n",
       "      <td>0.081515</td>\n",
       "      <td>0.0</td>\n",
       "    </tr>\n",
       "  </tbody>\n",
       "</table>\n",
       "</div>"
      ],
      "text/plain": [
       "   RowNumber  CustomerId   Surname  CreditScore  Age  Tenure    Balance  \\\n",
       "0      10001    15798485    Copley          565   31       1       0.00   \n",
       "1      10002    15588959     T'ang          569   34       4       0.00   \n",
       "2      10003    15624896        Ku          669   20       7       0.00   \n",
       "3      10004    15639629  McConnan          694   39       4  173255.48   \n",
       "4      10005    15638852     Ts'ui          504   28      10  109291.36   \n",
       "\n",
       "   NumOfProducts  HasCrCard  IsActiveMember  EstimatedSalary  Gender_Male  \\\n",
       "0            1.0          0               1         20443.08            1   \n",
       "1            1.0          0               1          4045.90            1   \n",
       "2            2.0          1               0        128838.67            0   \n",
       "3            1.0          1               1         81293.10            1   \n",
       "4            1.0          1               1        187593.15            1   \n",
       "\n",
       "   Geography_Germany  Geography_Spain  score_churn  churn  \n",
       "0                  0                0     0.079376    0.0  \n",
       "1                  0                0     0.083401    0.0  \n",
       "2                  0                0     0.041323    0.0  \n",
       "3                  0                0     0.119940    0.0  \n",
       "4                  0                1     0.081515    0.0  "
      ]
     },
     "execution_count": 29,
     "metadata": {},
     "output_type": "execute_result"
    }
   ],
   "source": [
    "base_test.head()"
   ]
  },
  {
   "cell_type": "markdown",
   "metadata": {},
   "source": [
    "## 4. Exportação da Base de Teste com predições "
   ]
  },
  {
   "cell_type": "code",
   "execution_count": 31,
   "metadata": {},
   "outputs": [],
   "source": [
    "base_test[['RowNumber','churn']].to_csv('predicoes_churn.csv',header=True,index=False)"
   ]
  },
  {
   "cell_type": "code",
   "execution_count": null,
   "metadata": {},
   "outputs": [],
   "source": []
  }
 ],
 "metadata": {
  "kernelspec": {
   "display_name": "Python 3 (ipykernel)",
   "language": "python",
   "name": "python3"
  },
  "language_info": {
   "codemirror_mode": {
    "name": "ipython",
    "version": 3
   },
   "file_extension": ".py",
   "mimetype": "text/x-python",
   "name": "python",
   "nbconvert_exporter": "python",
   "pygments_lexer": "ipython3",
   "version": "3.9.7"
  }
 },
 "nbformat": 4,
 "nbformat_minor": 4
}

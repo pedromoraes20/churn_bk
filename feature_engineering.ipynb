{
 "cells": [
  {
   "cell_type": "markdown",
   "id": "764254e7",
   "metadata": {},
   "source": [
    "# Feature engineering"
   ]
  },
  {
   "cell_type": "markdown",
   "id": "55d0ede9",
   "metadata": {},
   "source": [
    "## 1 Carga de libraries"
   ]
  },
  {
   "cell_type": "code",
   "execution_count": 12,
   "id": "d8cc0107",
   "metadata": {},
   "outputs": [],
   "source": [
    "from sklearn import preprocessing\n",
    "#import cloudpickle as cp\n",
    "import matplotlib.pyplot as plt \n",
    "from sklearn.base import BaseEstimator, TransformerMixin\n",
    "plt.rc(\"font\", size=14)\n",
    "from sklearn.linear_model import LogisticRegression\n",
    "from sklearn.model_selection import train_test_split\n",
    "import seaborn as sns\n",
    "sns.set(style=\"white\")\n",
    "import joblib\n",
    "sns.set(style=\"whitegrid\", color_codes=True)\n",
    "import pandas as pd                                    # Manipulação de tabelas\n",
    "import numpy as np                                     # Operações matemáticas\n",
    "import warnings                                        # Remover warnings\n",
    "import gc                                              # Limpa memória do cache\n",
    "import pickle as pkl\n",
    "#from pandas_profiling import ProfileReport\n",
    "from sklearn.metrics import roc_auc_score\n",
    "from sklearn import datasets, linear_model\n",
    "from sklearn.model_selection import StratifiedKFold    # Cria KFold estratificado\n",
    "from sklearn.model_selection import RandomizedSearchCV # Busca Aleatória de Parâmetros\n",
    "import scipy.stats\n",
    "warnings.filterwarnings(\"ignore\")             # Ignora warnings\n",
    "pd.set_option('display.max_columns', None)    # Remove limitador de colunas quando mostra a tabela"
   ]
  },
  {
   "cell_type": "code",
   "execution_count": 25,
   "id": "121e3ce0",
   "metadata": {},
   "outputs": [],
   "source": [
    "%run ./functions.ipynb"
   ]
  },
  {
   "cell_type": "markdown",
   "id": "d3dc2255",
   "metadata": {},
   "source": [
    "## 2 Carga de dados"
   ]
  },
  {
   "cell_type": "code",
   "execution_count": 6,
   "id": "f54803c1",
   "metadata": {},
   "outputs": [
    {
     "name": "stdout",
     "output_type": "stream",
     "text": [
      "A Base importada tem 1000 linhas e 13 colunas.\n"
     ]
    }
   ],
   "source": [
    "base_test = pd.read_csv('Abandono_teste.csv', sep=';', encoding='latin-1') # Rodando base Full\n",
    "print('A Base importada tem', base_test.shape[0], 'linhas e', base_test.shape[1], 'colunas.')\n",
    "base_test_backup = base_test.copy()"
   ]
  },
  {
   "cell_type": "markdown",
   "id": "7179fc86",
   "metadata": {},
   "source": [
    "## 3 Tratamentos e feature engineering"
   ]
  },
  {
   "cell_type": "markdown",
   "id": "ea1056f4-85f8-4fd7-b8aa-0477c49db4d5",
   "metadata": {},
   "source": [
    "### 3.1 Aplicação de Tratamento de Outliers (mediante medidas salvas da base de Treinamento)"
   ]
  },
  {
   "cell_type": "code",
   "execution_count": 21,
   "id": "f7c21ea9-bbed-497a-8e00-37b170252990",
   "metadata": {},
   "outputs": [],
   "source": [
    "trata_outlier = TrataOutlier()\n",
    "cols_numericas = ['CreditScore','Age',\n",
    "                  'Tenure','Balance',\n",
    "                  'NumOfProducts','EstimatedSalary']\n",
    "base_raw.loc[:, cols_numericas] = trata_outlier.fit_transform(base_raw[cols_numericas])"
   ]
  },
  {
   "cell_type": "markdown",
   "id": "3f14149e-8890-4f8c-be34-88b55d81702d",
   "metadata": {},
   "source": [
    "### 3.2 Numeralizar variáveis categóricas (mediante dicionário criado na base de Treinamento)"
   ]
  },
  {
   "cell_type": "code",
   "execution_count": 22,
   "id": "d9085a6a-ec59-41ed-9166-b7fcbcfe8819",
   "metadata": {},
   "outputs": [],
   "source": [
    "# COLLECT DUMMIES\n",
    "features_categoricas = ['Gender', 'Geography']\n",
    "base_test = pd.get_dummies(base_test, columns= features_categoricas, drop_first = True)"
   ]
  },
  {
   "cell_type": "markdown",
   "id": "a72d2f5c-4e34-494e-800d-51b9c7317dd6",
   "metadata": {},
   "source": [
    "## 4. Exportação das features"
   ]
  },
  {
   "cell_type": "code",
   "execution_count": 23,
   "id": "760db404-6481-4343-8ade-39e7b8867c50",
   "metadata": {},
   "outputs": [],
   "source": [
    "base_test.to_csv('features.csv',header=True,index=False)"
   ]
  },
  {
   "cell_type": "code",
   "execution_count": 24,
   "id": "beb975ae",
   "metadata": {},
   "outputs": [
    {
     "data": {
      "text/html": [
       "<div>\n",
       "<style scoped>\n",
       "    .dataframe tbody tr th:only-of-type {\n",
       "        vertical-align: middle;\n",
       "    }\n",
       "\n",
       "    .dataframe tbody tr th {\n",
       "        vertical-align: top;\n",
       "    }\n",
       "\n",
       "    .dataframe thead th {\n",
       "        text-align: right;\n",
       "    }\n",
       "</style>\n",
       "<table border=\"1\" class=\"dataframe\">\n",
       "  <thead>\n",
       "    <tr style=\"text-align: right;\">\n",
       "      <th></th>\n",
       "      <th>RowNumber</th>\n",
       "      <th>CustomerId</th>\n",
       "      <th>Surname</th>\n",
       "      <th>CreditScore</th>\n",
       "      <th>Age</th>\n",
       "      <th>Tenure</th>\n",
       "      <th>Balance</th>\n",
       "      <th>NumOfProducts</th>\n",
       "      <th>HasCrCard</th>\n",
       "      <th>IsActiveMember</th>\n",
       "      <th>EstimatedSalary</th>\n",
       "      <th>Gender_Male</th>\n",
       "      <th>Geography_Germany</th>\n",
       "      <th>Geography_Spain</th>\n",
       "    </tr>\n",
       "  </thead>\n",
       "  <tbody>\n",
       "    <tr>\n",
       "      <th>0</th>\n",
       "      <td>10001</td>\n",
       "      <td>15798485</td>\n",
       "      <td>Copley</td>\n",
       "      <td>565</td>\n",
       "      <td>31</td>\n",
       "      <td>1</td>\n",
       "      <td>0.00</td>\n",
       "      <td>1</td>\n",
       "      <td>0</td>\n",
       "      <td>1</td>\n",
       "      <td>20443.08</td>\n",
       "      <td>1</td>\n",
       "      <td>0</td>\n",
       "      <td>0</td>\n",
       "    </tr>\n",
       "    <tr>\n",
       "      <th>1</th>\n",
       "      <td>10002</td>\n",
       "      <td>15588959</td>\n",
       "      <td>T'ang</td>\n",
       "      <td>569</td>\n",
       "      <td>34</td>\n",
       "      <td>4</td>\n",
       "      <td>0.00</td>\n",
       "      <td>1</td>\n",
       "      <td>0</td>\n",
       "      <td>1</td>\n",
       "      <td>4045.90</td>\n",
       "      <td>1</td>\n",
       "      <td>0</td>\n",
       "      <td>0</td>\n",
       "    </tr>\n",
       "    <tr>\n",
       "      <th>2</th>\n",
       "      <td>10003</td>\n",
       "      <td>15624896</td>\n",
       "      <td>Ku</td>\n",
       "      <td>669</td>\n",
       "      <td>20</td>\n",
       "      <td>7</td>\n",
       "      <td>0.00</td>\n",
       "      <td>2</td>\n",
       "      <td>1</td>\n",
       "      <td>0</td>\n",
       "      <td>128838.67</td>\n",
       "      <td>0</td>\n",
       "      <td>0</td>\n",
       "      <td>0</td>\n",
       "    </tr>\n",
       "    <tr>\n",
       "      <th>3</th>\n",
       "      <td>10004</td>\n",
       "      <td>15639629</td>\n",
       "      <td>McConnan</td>\n",
       "      <td>694</td>\n",
       "      <td>39</td>\n",
       "      <td>4</td>\n",
       "      <td>173255.48</td>\n",
       "      <td>1</td>\n",
       "      <td>1</td>\n",
       "      <td>1</td>\n",
       "      <td>81293.10</td>\n",
       "      <td>1</td>\n",
       "      <td>0</td>\n",
       "      <td>0</td>\n",
       "    </tr>\n",
       "    <tr>\n",
       "      <th>4</th>\n",
       "      <td>10005</td>\n",
       "      <td>15638852</td>\n",
       "      <td>Ts'ui</td>\n",
       "      <td>504</td>\n",
       "      <td>28</td>\n",
       "      <td>10</td>\n",
       "      <td>109291.36</td>\n",
       "      <td>1</td>\n",
       "      <td>1</td>\n",
       "      <td>1</td>\n",
       "      <td>187593.15</td>\n",
       "      <td>1</td>\n",
       "      <td>0</td>\n",
       "      <td>1</td>\n",
       "    </tr>\n",
       "  </tbody>\n",
       "</table>\n",
       "</div>"
      ],
      "text/plain": [
       "   RowNumber  CustomerId   Surname  CreditScore  Age  Tenure    Balance  \\\n",
       "0      10001    15798485    Copley          565   31       1       0.00   \n",
       "1      10002    15588959     T'ang          569   34       4       0.00   \n",
       "2      10003    15624896        Ku          669   20       7       0.00   \n",
       "3      10004    15639629  McConnan          694   39       4  173255.48   \n",
       "4      10005    15638852     Ts'ui          504   28      10  109291.36   \n",
       "\n",
       "   NumOfProducts  HasCrCard  IsActiveMember  EstimatedSalary  Gender_Male  \\\n",
       "0              1          0               1         20443.08            1   \n",
       "1              1          0               1          4045.90            1   \n",
       "2              2          1               0        128838.67            0   \n",
       "3              1          1               1         81293.10            1   \n",
       "4              1          1               1        187593.15            1   \n",
       "\n",
       "   Geography_Germany  Geography_Spain  \n",
       "0                  0                0  \n",
       "1                  0                0  \n",
       "2                  0                0  \n",
       "3                  0                0  \n",
       "4                  0                1  "
      ]
     },
     "execution_count": 24,
     "metadata": {},
     "output_type": "execute_result"
    }
   ],
   "source": [
    "base_test.head()"
   ]
  },
  {
   "cell_type": "code",
   "execution_count": null,
   "id": "4bfe8fb2",
   "metadata": {},
   "outputs": [],
   "source": []
  }
 ],
 "metadata": {
  "kernelspec": {
   "display_name": "Python 3 (ipykernel)",
   "language": "python",
   "name": "python3"
  },
  "language_info": {
   "codemirror_mode": {
    "name": "ipython",
    "version": 3
   },
   "file_extension": ".py",
   "mimetype": "text/x-python",
   "name": "python",
   "nbconvert_exporter": "python",
   "pygments_lexer": "ipython3",
   "version": "3.9.7"
  }
 },
 "nbformat": 4,
 "nbformat_minor": 5
}
